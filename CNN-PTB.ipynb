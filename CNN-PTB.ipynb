{
 "cells": [
  {
   "cell_type": "code",
   "execution_count": 1,
   "metadata": {},
   "outputs": [
    {
     "name": "stderr",
     "output_type": "stream",
     "text": [
      "Using TensorFlow backend.\n"
     ]
    }
   ],
   "source": [
    "from __future__ import print_function\n",
    "import keras\n",
    "from keras.datasets import cifar10\n",
    "from keras.preprocessing.image import ImageDataGenerator\n",
    "from keras.models import Sequential\n",
    "from keras.layers import Dense, Dropout, Activation, Flatten\n",
    "from keras.layers import Conv2D, MaxPooling2D"
   ]
  },
  {
   "cell_type": "code",
   "execution_count": 2,
   "metadata": {
    "collapsed": true
   },
   "outputs": [],
   "source": [
    "import os\n",
    "import pickle\n",
    "import numpy as np"
   ]
  },
  {
   "cell_type": "code",
   "execution_count": 3,
   "metadata": {
    "collapsed": true
   },
   "outputs": [],
   "source": [
    "batch_size = 32\n",
    "num_classes = 10\n",
    "epochs = 65\n",
    "data_augmentation = True\n",
    "num_predictions = 20\n",
    "save_dir = os.path.join(os.getcwd(), 'saved_models')\n",
    "model_name = 'keras_cifar10_trained_model.h5'"
   ]
  },
  {
   "cell_type": "code",
   "execution_count": 4,
   "metadata": {},
   "outputs": [
    {
     "name": "stdout",
     "output_type": "stream",
     "text": [
      "x_train shape: (50000, 32, 32, 3)\n",
      "50000 train samples\n",
      "10000 test samples\n"
     ]
    }
   ],
   "source": [
    "# The data, shuffled and split between train and test sets:\n",
    "(x_train, y_train), (x_test, y_test) = cifar10.load_data()\n",
    "print('x_train shape:', x_train.shape)\n",
    "print(x_train.shape[0], 'train samples')\n",
    "print(x_test.shape[0], 'test samples')"
   ]
  },
  {
   "cell_type": "code",
   "execution_count": 5,
   "metadata": {
    "collapsed": true
   },
   "outputs": [],
   "source": [
    "# Convert class vectors to binary class matrices.\n",
    "y_train = keras.utils.to_categorical(y_train, num_classes)\n",
    "y_test = keras.utils.to_categorical(y_test, num_classes)"
   ]
  },
  {
   "cell_type": "code",
   "execution_count": 6,
   "metadata": {
    "collapsed": true
   },
   "outputs": [],
   "source": [
    "model = Sequential()\n",
    "\n",
    "model.add(Conv2D(32, (3, 3), padding='same',\n",
    "                 input_shape=x_train.shape[1:]))\n",
    "model.add(Activation('relu'))\n",
    "model.add(Conv2D(32, (3, 3)))\n",
    "model.add(Activation('relu'))\n",
    "model.add(MaxPooling2D(pool_size=(2, 2)))\n",
    "model.add(Dropout(0.25))\n"
   ]
  },
  {
   "cell_type": "code",
   "execution_count": 7,
   "metadata": {
    "collapsed": true
   },
   "outputs": [],
   "source": [
    "model.add(Conv2D(64, (3, 3), padding='same'))\n",
    "model.add(Activation('relu'))\n",
    "model.add(Conv2D(64, (3, 3)))\n",
    "model.add(Activation('relu'))\n",
    "model.add(MaxPooling2D(pool_size=(2, 2)))\n",
    "model.add(Dropout(0.2))\n"
   ]
  },
  {
   "cell_type": "code",
   "execution_count": 8,
   "metadata": {
    "collapsed": true
   },
   "outputs": [],
   "source": [
    "model.add(Flatten())\n",
    "model.add(Dense(512))\n",
    "model.add(Activation('relu'))\n",
    "model.add(Dropout(0.2))\n",
    "model.add(Dense(num_classes))\n",
    "model.add(Activation('softmax'))"
   ]
  },
  {
   "cell_type": "code",
   "execution_count": 9,
   "metadata": {
    "collapsed": true
   },
   "outputs": [],
   "source": [
    "# initiate RMSprop optimizer\n",
    "opt = keras.optimizers.rmsprop(lr=0.0001, decay=1e-6)\n",
    "\n",
    "# Let's train the model using RMSprop\n",
    "model.compile(loss='categorical_crossentropy',\n",
    "              optimizer=opt,\n",
    "              metrics=['accuracy'])\n",
    "\n",
    "x_train = x_train.astype('float32')\n",
    "x_test = x_test.astype('float32')\n",
    "x_train /= 255\n",
    "x_test /= 255"
   ]
  },
  {
   "cell_type": "code",
   "execution_count": 10,
   "metadata": {},
   "outputs": [
    {
     "name": "stdout",
     "output_type": "stream",
     "text": [
      "Using real-time data augmentation.\n",
      "Epoch 1/65\n",
      "1562/1562 [==============================] - 51s - loss: 1.7773 - acc: 0.3471 - val_loss: 1.5161 - val_acc: 0.4591\n",
      "Epoch 2/65\n",
      "1562/1562 [==============================] - 37s - loss: 1.4974 - acc: 0.4561 - val_loss: 1.3387 - val_acc: 0.5249\n",
      "Epoch 3/65\n",
      "1562/1562 [==============================] - 36s - loss: 1.3637 - acc: 0.5113 - val_loss: 1.1966 - val_acc: 0.5773\n",
      "Epoch 4/65\n",
      "1562/1562 [==============================] - 36s - loss: 1.2742 - acc: 0.5444 - val_loss: 1.1085 - val_acc: 0.6152\n",
      "Epoch 5/65\n",
      "1562/1562 [==============================] - 36s - loss: 1.1971 - acc: 0.5762 - val_loss: 1.0346 - val_acc: 0.6369.57 - ETA: 0s - loss: 1.1969 - acc: 0.\n",
      "Epoch 6/65\n",
      "1562/1562 [==============================] - 36s - loss: 1.1305 - acc: 0.6015 - val_loss: 0.9601 - val_acc: 0.6631\n",
      "Epoch 7/65\n",
      "1562/1562 [==============================] - 36s - loss: 1.0736 - acc: 0.6212 - val_loss: 0.9105 - val_acc: 0.6846\n",
      "Epoch 8/65\n",
      "1562/1562 [==============================] - 36s - loss: 1.0303 - acc: 0.6362 - val_loss: 0.8832 - val_acc: 0.6931\n",
      "Epoch 9/65\n",
      "1562/1562 [==============================] - 36s - loss: 0.9874 - acc: 0.6518 - val_loss: 0.8686 - val_acc: 0.6955.65 - ETA: 1s - lo\n",
      "Epoch 10/65\n",
      "1562/1562 [==============================] - 36s - loss: 0.9545 - acc: 0.6657 - val_loss: 0.8125 - val_acc: 0.7166\n",
      "Epoch 11/65\n",
      "1562/1562 [==============================] - 36s - loss: 0.9153 - acc: 0.6807 - val_loss: 0.8048 - val_acc: 0.7201\n",
      "Epoch 12/65\n",
      "1562/1562 [==============================] - 37s - loss: 0.8936 - acc: 0.6878 - val_loss: 0.7668 - val_acc: 0.7371 1s - lo\n",
      "Epoch 13/65\n",
      "1562/1562 [==============================] - 36s - loss: 0.8667 - acc: 0.6976 - val_loss: 0.7490 - val_acc: 0.7398\n",
      "Epoch 14/65\n",
      "1562/1562 [==============================] - 36s - loss: 0.8397 - acc: 0.7053 - val_loss: 0.7366 - val_acc: 0.7424\n",
      "Epoch 15/65\n",
      "1562/1562 [==============================] - 35s - loss: 0.8247 - acc: 0.7129 - val_loss: 0.7088 - val_acc: 0.7541\n",
      "Epoch 16/65\n",
      "1562/1562 [==============================] - 36s - loss: 0.8142 - acc: 0.7151 - val_loss: 0.7014 - val_acc: 0.7572\n",
      "Epoch 17/65\n",
      "1562/1562 [==============================] - 36s - loss: 0.7965 - acc: 0.7232 - val_loss: 0.6965 - val_acc: 0.7592\n",
      "Epoch 18/65\n",
      "1562/1562 [==============================] - 36s - loss: 0.7812 - acc: 0.7303 - val_loss: 0.6772 - val_acc: 0.7693\n",
      "Epoch 19/65\n",
      "1562/1562 [==============================] - 37s - loss: 0.7692 - acc: 0.7338 - val_loss: 0.6933 - val_acc: 0.7597\n",
      "Epoch 20/65\n",
      "1562/1562 [==============================] - 36s - loss: 0.7581 - acc: 0.7361 - val_loss: 0.6636 - val_acc: 0.7701\n",
      "Epoch 21/65\n",
      "1562/1562 [==============================] - 37s - loss: 0.7511 - acc: 0.7390 - val_loss: 0.6711 - val_acc: 0.7724\n",
      "Epoch 22/65\n",
      "1562/1562 [==============================] - 37s - loss: 0.7416 - acc: 0.7425 - val_loss: 0.6386 - val_acc: 0.7848\n",
      "Epoch 23/65\n",
      "1562/1562 [==============================] - 36s - loss: 0.7319 - acc: 0.7477 - val_loss: 0.6500 - val_acc: 0.7764\n",
      "Epoch 24/65\n",
      "1562/1562 [==============================] - 36s - loss: 0.7204 - acc: 0.7507 - val_loss: 0.6325 - val_acc: 0.7842\n",
      "Epoch 25/65\n",
      "1562/1562 [==============================] - 36s - loss: 0.7125 - acc: 0.7529 - val_loss: 0.6165 - val_acc: 0.7861\n",
      "Epoch 26/65\n",
      "1562/1562 [==============================] - 36s - loss: 0.7066 - acc: 0.7557 - val_loss: 0.6308 - val_acc: 0.7888\n",
      "Epoch 27/65\n",
      "1562/1562 [==============================] - 36s - loss: 0.6989 - acc: 0.7609 - val_loss: 0.6136 - val_acc: 0.7919\n",
      "Epoch 28/65\n",
      "1562/1562 [==============================] - 36s - loss: 0.6971 - acc: 0.7588 - val_loss: 0.5950 - val_acc: 0.7966\n",
      "Epoch 29/65\n",
      "1562/1562 [==============================] - 35s - loss: 0.6920 - acc: 0.7603 - val_loss: 0.6205 - val_acc: 0.7880\n",
      "Epoch 30/65\n",
      "1562/1562 [==============================] - 35s - loss: 0.6828 - acc: 0.7662 - val_loss: 0.6102 - val_acc: 0.7928\n",
      "Epoch 31/65\n",
      "1562/1562 [==============================] - 36s - loss: 0.6838 - acc: 0.7633 - val_loss: 0.6029 - val_acc: 0.7969\n",
      "Epoch 32/65\n",
      "1562/1562 [==============================] - 35s - loss: 0.6813 - acc: 0.7653 - val_loss: 0.5963 - val_acc: 0.8009\n",
      "Epoch 33/65\n",
      "1562/1562 [==============================] - 36s - loss: 0.6759 - acc: 0.7675 - val_loss: 0.5989 - val_acc: 0.7992\n",
      "Epoch 34/65\n",
      "1562/1562 [==============================] - 36s - loss: 0.6684 - acc: 0.7714 - val_loss: 0.5888 - val_acc: 0.8045\n",
      "Epoch 35/65\n",
      "1562/1562 [==============================] - 37s - loss: 0.6716 - acc: 0.7672 - val_loss: 0.5883 - val_acc: 0.7989\n",
      "Epoch 36/65\n",
      "1562/1562 [==============================] - 36s - loss: 0.6667 - acc: 0.7702 - val_loss: 0.5910 - val_acc: 0.8016\n",
      "Epoch 37/65\n",
      "1562/1562 [==============================] - 36s - loss: 0.6679 - acc: 0.7693 - val_loss: 0.5760 - val_acc: 0.8053\n",
      "Epoch 38/65\n",
      "1562/1562 [==============================] - 36s - loss: 0.6622 - acc: 0.7733 - val_loss: 0.5743 - val_acc: 0.8098\n",
      "Epoch 39/65\n",
      "1562/1562 [==============================] - 37s - loss: 0.6585 - acc: 0.7743 - val_loss: 0.6106 - val_acc: 0.7996\n",
      "Epoch 40/65\n",
      "1562/1562 [==============================] - 36s - loss: 0.6585 - acc: 0.7758 - val_loss: 0.5745 - val_acc: 0.8088\n",
      "Epoch 41/65\n",
      "1562/1562 [==============================] - 36s - loss: 0.6554 - acc: 0.7762 - val_loss: 0.5830 - val_acc: 0.8070\n",
      "Epoch 42/65\n",
      "1562/1562 [==============================] - 36s - loss: 0.6512 - acc: 0.7773 - val_loss: 0.5748 - val_acc: 0.8094 - loss: 0.6526 - ETA: 1s - loss: 0\n",
      "Epoch 43/65\n",
      "1562/1562 [==============================] - 38s - loss: 0.6510 - acc: 0.7777 - val_loss: 0.5584 - val_acc: 0.8119\n",
      "Epoch 44/65\n",
      "1562/1562 [==============================] - 36s - loss: 0.6460 - acc: 0.7810 - val_loss: 0.5672 - val_acc: 0.8110\n",
      "Epoch 45/65\n",
      "1562/1562 [==============================] - 36s - loss: 0.6442 - acc: 0.7781 - val_loss: 0.5623 - val_acc: 0.8103\n",
      "Epoch 46/65\n",
      "1562/1562 [==============================] - 36s - loss: 0.6501 - acc: 0.7765 - val_loss: 0.5834 - val_acc: 0.8019\n",
      "Epoch 47/65\n",
      "1562/1562 [==============================] - 36s - loss: 0.6417 - acc: 0.7827 - val_loss: 0.5645 - val_acc: 0.8137\n",
      "Epoch 48/65\n",
      "1562/1562 [==============================] - 36s - loss: 0.6435 - acc: 0.7802 - val_loss: 0.5563 - val_acc: 0.8189\n",
      "Epoch 49/65\n",
      "1562/1562 [==============================] - 36s - loss: 0.6460 - acc: 0.7789 - val_loss: 0.5615 - val_acc: 0.8149\n",
      "Epoch 50/65\n",
      "1562/1562 [==============================] - 36s - loss: 0.6445 - acc: 0.7799 - val_loss: 0.5474 - val_acc: 0.8181\n",
      "Epoch 51/65\n",
      "1562/1562 [==============================] - 36s - loss: 0.6385 - acc: 0.7830 - val_loss: 0.5580 - val_acc: 0.8148\n",
      "Epoch 52/65\n",
      "1562/1562 [==============================] - 36s - loss: 0.6381 - acc: 0.7817 - val_loss: 0.5535 - val_acc: 0.8191\n",
      "Epoch 53/65\n",
      "1562/1562 [==============================] - 36s - loss: 0.6369 - acc: 0.7835 - val_loss: 0.5607 - val_acc: 0.8184\n",
      "Epoch 54/65\n",
      "1562/1562 [==============================] - 36s - loss: 0.6436 - acc: 0.7821 - val_loss: 0.5505 - val_acc: 0.8145\n",
      "Epoch 55/65\n",
      "1562/1562 [==============================] - 36s - loss: 0.6365 - acc: 0.7852 - val_loss: 0.5424 - val_acc: 0.8206\n",
      "Epoch 56/65\n",
      "1562/1562 [==============================] - 36s - loss: 0.6399 - acc: 0.7851 - val_loss: 0.5499 - val_acc: 0.8164\n",
      "Epoch 57/65\n",
      "1562/1562 [==============================] - 36s - loss: 0.6343 - acc: 0.7842 - val_loss: 0.5567 - val_acc: 0.8200\n",
      "Epoch 58/65\n",
      "1562/1562 [==============================] - 36s - loss: 0.6368 - acc: 0.7849 - val_loss: 0.5852 - val_acc: 0.8120\n",
      "Epoch 59/65\n",
      "1562/1562 [==============================] - 36s - loss: 0.6353 - acc: 0.7851 - val_loss: 0.5881 - val_acc: 0.8118\n",
      "Epoch 60/65\n",
      "1562/1562 [==============================] - 36s - loss: 0.6321 - acc: 0.7866 - val_loss: 0.5510 - val_acc: 0.8167\n",
      "Epoch 61/65\n",
      "1562/1562 [==============================] - 35s - loss: 0.6332 - acc: 0.7862 - val_loss: 0.5569 - val_acc: 0.8161\n",
      "Epoch 62/65\n",
      "1562/1562 [==============================] - 35s - loss: 0.6336 - acc: 0.7849 - val_loss: 0.5796 - val_acc: 0.8144\n",
      "Epoch 63/65\n",
      "1562/1562 [==============================] - 36s - loss: 0.6398 - acc: 0.7841 - val_loss: 0.5656 - val_acc: 0.8189\n",
      "Epoch 64/65\n",
      "1562/1562 [==============================] - 36s - loss: 0.6306 - acc: 0.7863 - val_loss: 0.5852 - val_acc: 0.8222\n",
      "Epoch 65/65\n",
      "1562/1562 [==============================] - 36s - loss: 0.6349 - acc: 0.7851 - val_loss: 0.5774 - val_acc: 0.8159\n"
     ]
    }
   ],
   "source": [
    "if not data_augmentation:\n",
    "    print('Not using data augmentation.')\n",
    "    model.fit(x_train, y_train,\n",
    "              batch_size=batch_size,\n",
    "              epochs=epochs,\n",
    "              validation_data=(x_test, y_test),\n",
    "              shuffle=True)\n",
    "else:\n",
    "    print('Using real-time data augmentation.')\n",
    "    # This will do preprocessing and realtime data augmentation:\n",
    "    datagen = ImageDataGenerator(\n",
    "        featurewise_center=False,  # set input mean to 0 over the dataset\n",
    "        samplewise_center=False,  # set each sample mean to 0\n",
    "        featurewise_std_normalization=False,  # divide inputs by std of the dataset\n",
    "        samplewise_std_normalization=False,  # divide each input by its std\n",
    "        zca_whitening=False,  # apply ZCA whitening\n",
    "        rotation_range=0,  # randomly rotate images in the range (degrees, 0 to 180)\n",
    "        width_shift_range=0.1,  # randomly shift images horizontally (fraction of total width)\n",
    "        height_shift_range=0.1,  # randomly shift images vertically (fraction of total height)\n",
    "        horizontal_flip=True,  # randomly flip images\n",
    "        vertical_flip=False)  # randomly flip images\n",
    "\n",
    "    # Compute quantities required for feature-wise normalization\n",
    "    # (std, mean, and principal components if ZCA whitening is applied).\n",
    "    datagen.fit(x_train)\n",
    "\n",
    "    # Fit the model on the batches generated by datagen.flow().\n",
    "    model.fit_generator(datagen.flow(x_train, y_train,\n",
    "                                     batch_size=batch_size),\n",
    "                        steps_per_epoch=x_train.shape[0] // batch_size,\n",
    "                        epochs=epochs,\n",
    "                        validation_data=(x_test, y_test),\n",
    "                        workers=4)\n",
    "\n"
   ]
  },
  {
   "cell_type": "code",
   "execution_count": 11,
   "metadata": {},
   "outputs": [
    {
     "name": "stdout",
     "output_type": "stream",
     "text": [
      "Saved trained model at C:\\Users\\Derek\\Anaconda3\\Scripts\\saved_models\\keras_cifar10_trained_model.h5 \n"
     ]
    }
   ],
   "source": [
    "# Save model and weights\n",
    "if not os.path.isdir(save_dir):\n",
    "    os.makedirs(save_dir)\n",
    "model_path = os.path.join(save_dir, model_name)\n",
    "model.save(model_path)\n",
    "print('Saved trained model at %s ' % model_path)\n",
    "\n",
    "# Load label names to use in prediction results\n",
    "label_list_path = 'datasets/cifar-10-batches-py/batches.meta'\n"
   ]
  },
  {
   "cell_type": "code",
   "execution_count": 12,
   "metadata": {
    "collapsed": true
   },
   "outputs": [],
   "source": [
    "\n",
    "keras_dir = os.path.expanduser(os.path.join('~', '.keras'))\n",
    "datadir_base = os.path.expanduser(keras_dir)\n",
    "if not os.access(datadir_base, os.W_OK):\n",
    "    datadir_base = os.path.join('/tmp', '.keras')\n",
    "label_list_path = os.path.join(datadir_base, label_list_path)\n",
    "\n",
    "with open(label_list_path, mode='rb') as f:\n",
    "    labels = pickle.load(f)\n"
   ]
  },
  {
   "cell_type": "code",
   "execution_count": 13,
   "metadata": {},
   "outputs": [
    {
     "name": "stdout",
     "output_type": "stream",
     "text": [
      "Model Accuracy = 0.80\n"
     ]
    }
   ],
   "source": [
    "\n",
    "# Evaluate model with test data set and share sample prediction results\n",
    "evaluation = model.evaluate_generator(datagen.flow(x_test, y_test,\n",
    "                                                   batch_size=batch_size,\n",
    "                                                   shuffle=False),\n",
    "                                      steps=x_test.shape[0] // batch_size,\n",
    "                                      workers=4)\n",
    "print('Model Accuracy = %.2f' % (evaluation[1]))\n",
    "\n",
    "predict_gen = model.predict_generator(datagen.flow(x_test, y_test,\n",
    "                                                   batch_size=batch_size,\n",
    "                                                   shuffle=False),\n",
    "                                      steps=x_test.shape[0] // batch_size,\n",
    "                                      workers=4)"
   ]
  },
  {
   "cell_type": "code",
   "execution_count": 14,
   "metadata": {},
   "outputs": [
    {
     "name": "stdout",
     "output_type": "stream",
     "text": [
      "Actual Label = cat vs. Predicted Label = cat\n",
      "Actual Label = ship vs. Predicted Label = ship\n",
      "Actual Label = ship vs. Predicted Label = ship\n",
      "Actual Label = airplane vs. Predicted Label = airplane\n",
      "Actual Label = frog vs. Predicted Label = frog\n",
      "Actual Label = frog vs. Predicted Label = frog\n",
      "Actual Label = automobile vs. Predicted Label = automobile\n",
      "Actual Label = frog vs. Predicted Label = frog\n",
      "Actual Label = cat vs. Predicted Label = cat\n",
      "Actual Label = automobile vs. Predicted Label = automobile\n",
      "Actual Label = airplane vs. Predicted Label = airplane\n",
      "Actual Label = truck vs. Predicted Label = truck\n",
      "Actual Label = dog vs. Predicted Label = dog\n",
      "Actual Label = horse vs. Predicted Label = horse\n",
      "Actual Label = truck vs. Predicted Label = truck\n",
      "Actual Label = ship vs. Predicted Label = ship\n",
      "Actual Label = dog vs. Predicted Label = dog\n",
      "Actual Label = horse vs. Predicted Label = horse\n",
      "Actual Label = ship vs. Predicted Label = ship\n",
      "Actual Label = frog vs. Predicted Label = frog\n",
      "Actual Label = horse vs. Predicted Label = horse\n"
     ]
    }
   ],
   "source": [
    "\n",
    "for predict_index, predicted_y in enumerate(predict_gen):\n",
    "    actual_label = labels['label_names'][np.argmax(y_test[predict_index])]\n",
    "    predicted_label = labels['label_names'][np.argmax(predicted_y)]\n",
    "    print('Actual Label = %s vs. Predicted Label = %s' % (actual_label,\n",
    "                                                          predicted_label))\n",
    "    if predict_index == num_predictions:\n",
    "        break"
   ]
  },
  {
   "cell_type": "code",
   "execution_count": null,
   "metadata": {
    "collapsed": true
   },
   "outputs": [],
   "source": []
  },
  {
   "cell_type": "code",
   "execution_count": null,
   "metadata": {
    "collapsed": true
   },
   "outputs": [],
   "source": []
  },
  {
   "cell_type": "code",
   "execution_count": null,
   "metadata": {
    "collapsed": true
   },
   "outputs": [],
   "source": []
  }
 ],
 "metadata": {
  "kernelspec": {
   "display_name": "Python 3",
   "language": "python",
   "name": "python3"
  },
  "language_info": {
   "codemirror_mode": {
    "name": "ipython",
    "version": 3
   },
   "file_extension": ".py",
   "mimetype": "text/x-python",
   "name": "python",
   "nbconvert_exporter": "python",
   "pygments_lexer": "ipython3",
   "version": "3.6.2"
  }
 },
 "nbformat": 4,
 "nbformat_minor": 2
}
